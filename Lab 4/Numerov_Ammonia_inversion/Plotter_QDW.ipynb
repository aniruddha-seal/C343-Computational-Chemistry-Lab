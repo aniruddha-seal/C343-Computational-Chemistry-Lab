{
 "cells": [
  {
   "cell_type": "code",
   "execution_count": 55,
   "metadata": {},
   "outputs": [],
   "source": [
    "import matplotlib.pyplot as plt\n",
    "import numpy as np\n",
    "import sys\n",
    "import time\n",
    "import support_func_QDP as EF\n",
    "%matplotlib qt"
   ]
  },
  {
   "cell_type": "code",
   "execution_count": 2,
   "metadata": {},
   "outputs": [],
   "source": [
    "import support_func_QDP as EF"
   ]
  },
  {
   "cell_type": "code",
   "execution_count": 3,
   "metadata": {},
   "outputs": [
    {
     "name": "stdout",
     "output_type": "stream",
     "text": [
      "\t THE NUMERICAL SOLUTION FOR SYMMETRIC POTENTIAL WELL\n",
      "\n",
      "The user has to provide an energy range. This program will try to find an eigen value in this range\n",
      "For using default values enter '$' when asked for the potential form. \n",
      "If not sure about any values please provide '$', whever you want\n"
     ]
    },
    {
     "name": "stdin",
     "output_type": "stream",
     "text": [
      "Enter the values of h-bar: 1\n",
      "Enter the value of m: 1\n"
     ]
    },
    {
     "name": "stdout",
     "output_type": "stream",
     "text": [
      "\n",
      "POTENTAIL FUNCTION DEFENITION\n",
      "The potentiAL we use is in the form K*(ax^4-bx^2+C)\n",
      "\tDO YOU WISH TO PROVIDE a,b,c THEN TYPE'C'\n",
      "\t\t OR \n",
      "\tSPECIFY THE BARRIER HEIGHT AND DISTANCE OF MINIMAS FROM THE BARRIER\n"
     ]
    },
    {
     "name": "stdin",
     "output_type": "stream",
     "text": [
      "If you wish to provide the constants then type 'C'\n",
      "if you wish the other method type 'B'.\n",
      "OR for a default run type '$' : $\n",
      "\n",
      "Enter the lower bound for searching energy(can be zero but not less than that): 0\n"
     ]
    },
    {
     "name": "stdout",
     "output_type": "stream",
     "text": [
      "\n",
      "SETTING THE UPER BOUND TO 10.0 WILL GIVE YOU THE FIRST FEW EIGEN STATES,\n",
      "!!!!ENERGIES GREATER THAN THIS WILL NOT HAVE SPLITTTING AND WILL BE SIMILAR\n",
      "TO THE EIGEN STATES OF QUATUM HARMONIC OSSCILATOR.\n",
      "you can of course set the upper bound of energy higher than this.\n",
      "but if this is too high the eigen energies will be too crowded\n"
     ]
    },
    {
     "name": "stdin",
     "output_type": "stream",
     "text": [
      "\n",
      "Enter the upper bound for searching energy: 10\n"
     ]
    },
    {
     "name": "stdout",
     "output_type": "stream",
     "text": [
      "\n",
      "The region on X axis starting from -4.74 to 4.74 is considered.\n",
      "And evaluation of psi is done only in this domain\n",
      "The potential equation is:0.1(4x^4-40x^2+100.0)\n",
      "\n",
      "!!PLEASE WAIT!! \n",
      "!!CALCULATING THE EIGEN ENERGIES!!\n"
     ]
    }
   ],
   "source": [
    "def Poten_D(x):\n",
    "    V=K*(C_4*(x**4)-C_2*(x**2)+C_0)\n",
    "    return V\n",
    "print(\"\\t THE NUMERICAL SOLUTION FOR SYMMETRIC POTENTIAL WELL\\n\")\n",
    "print(\"The user has to provide an energy range. This program will try to find an eigen value in this range\")\n",
    "print(\"For using default values enter '$' when asked for the potential form. \\nIf not sure about any values please provide '$', whever you want\")\n",
    "h=input(\"Enter the values of h-bar:\")\n",
    "if h!='$':\n",
    "    h=float(h)\n",
    "else:\n",
    "    h=1\n",
    "m=input(\"Enter the value of m:\")   \n",
    "if m!='$':\n",
    "    m=float(h)\n",
    "else:\n",
    "    m=1\n",
    "print(\"\\nPOTENTAIL FUNCTION DEFENITION\")\n",
    "print(\"The potentiAL we use is in the form K*(ax^4-bx^2+C)\")\n",
    "print(\"\\tDO YOU WISH TO PROVIDE a,b,c THEN TYPE'C'\\n\\t\\t OR \\n\\tSPECIFY THE BARRIER HEIGHT AND DISTANCE OF MINIMAS FROM THE BARRIER\")\n",
    "time.sleep(3)\n",
    "M=input(\"If you wish to provide the constants then type 'C'\\nif you wish the other method type 'B'.\\nOR for a default run type '$' :\")\n",
    "if M=='C':\n",
    "    C_4=input(\"Enter the value you want for a:\")\n",
    "    C_2=input(\"Enter the value you want for b:\")\n",
    "    print(\"The value of C has to be such that the potential is never below zer, if the entered C is insufficient it will be automatically changed\")\n",
    "    C_0=input(\"Enter the value you want for C:\")\n",
    "    if C_4=='$':\n",
    "        C_4=4\n",
    "    else:\n",
    "        C_4=float(C_4)\n",
    "    if C_2=='$':\n",
    "        C_2=40\n",
    "    else:\n",
    "        C_2=float(C_2)\n",
    "    C_0_cal=C_2**2/(4*C_4)\n",
    "    if C_0=='$':\n",
    "        C_0=C_2**2/(4*C_4)\n",
    "    elif float(C_0)<C_0_cal:\n",
    "        C_0=C_0_cal\n",
    "    else:\n",
    "        C_0=float(C_0)\n",
    "    K=input(\"Enter the Scaling factor K:\")\n",
    "    if K=='$':\n",
    "        K=0.1\n",
    "    else:\n",
    "        K=float(K)\n",
    "    print(f\"The potential equation is:{K}({round(C_4,1)}x^4-{round(C_2,1)}x^2+{C_0})\")\n",
    "elif M=='B':\n",
    "    C_0=input(\"Enter the barrier height:\")\n",
    "    b=input(\"Enter the distance from barrier to either one of the minimas:\")\n",
    "    if C_0=='$':\n",
    "        C_0=10\n",
    "    else:\n",
    "        C_0=float(C_0)\n",
    "    if b=='$':\n",
    "        b=3\n",
    "    else:\n",
    "        b=float(b)\n",
    "    C_4=C_0/(b**4)\n",
    "    C_2=2*C_0/(b**2)\n",
    "    print(f\"The potential barrier={C_0}/nThe distance from the barrier to minima={b}\")\n",
    "    print(f\"The potential equation is:{round(C_4,2)}x^4-{round(C_2,2)}x^2+{C_0}\")\n",
    "    K=float(input(\"Enter the scaling factor. Enter one if you want absolute scaling:\"))\n",
    "elif M=='$':\n",
    "    C_4=4\n",
    "    C_2=40\n",
    "    C_0=C_2**2/(4*C_4)\n",
    "    K=0.1\n",
    "else:\n",
    "    print(\"provide a valid input\")\n",
    "    exit()\n",
    "\n",
    "E_lw=input(\"\\nEnter the lower bound for searching energy(can be zero but not less than that):\")\n",
    "print(f\"\\nSETTING THE UPER BOUND TO {K*C_0} WILL GIVE YOU THE FIRST FEW EIGEN STATES,\\n!!!!ENERGIES GREATER THAN THIS WILL NOT HAVE SPLITTTING AND WILL BE SIMILAR\\nTO THE EIGEN STATES OF QUATUM HARMONIC OSSCILATOR.\\nyou can of course set the upper bound of energy higher than this.\\nbut if this is too high the eigen energies will be too crowded\")\n",
    "E_up=input(f\"\\nEnter the upper bound for searching energy:\")\n",
    "if E_lw=='$':\n",
    "    E_lw=0\n",
    "else:\n",
    "    E_lw=float(E_lw)\n",
    "if E_up=='$':\n",
    "    E_up=K*C_0\n",
    "else:\n",
    "    E_up=float(E_up)\n",
    "Xmin=-((C_2+(C_2**2-4*C_4*(C_0-E_up*10))**.5)/(2*C_4))**(.5)*1.5\n",
    "Xmax=abs(Xmin)\n",
    "print(f\"\\nThe region on X axis starting from {round(Xmin,2)} to {round(Xmax,2)} is considered.\\nAnd evaluation of psi is done only in this domain\")\n",
    "print(f\"The potential equation is:{K}({round(C_4,1)}x^4-{round(C_2,1)}x^2+{round(C_0,1)})\")\n",
    "print(\"\\n!!PLEASE WAIT!! \\n!!CALCULATING THE EIGEN ENERGIES!!\")\n",
    "T_b=time.time()\n",
    "X=np.linspace(Xmin,Xmax,10**4)\n",
    "Barrier_poten=K*C_0#the middle potential barrier\n",
    "if .1>Barrier_poten*.01:\n",
    "    dE=Barrier_poten/100\n",
    "else:\n",
    "    dE=.1\n",
    "EF.Constant_feeder(h,m,Barrier_poten,Poten_D)"
   ]
  },
  {
   "cell_type": "code",
   "execution_count": 4,
   "metadata": {},
   "outputs": [
    {
     "name": "stdout",
     "output_type": "stream",
     "text": [
      "||||\n",
      "||||\n",
      "|||||\n",
      "|||||\n",
      "||||||\n",
      "||||||\n",
      "||||||\n",
      "||||||\n",
      "||||||\n",
      "||||||\n",
      "\n",
      "Time taken for computing: 114.30718564987183\n",
      "The eigen energies are :\n"
     ]
    }
   ],
   "source": [
    "Eigen_E=EF.Eigen_Range_finder(X,E_lw,E_up,10,dE)\n",
    "T_f=time.time()\n",
    "print('\\nTime taken for computing:',T_f-T_b)\n",
    "print(\"The eigen energies are :\")"
   ]
  },
  {
   "cell_type": "code",
   "execution_count": 5,
   "metadata": {},
   "outputs": [
    {
     "data": {
      "text/plain": [
       "array([1.94672996, 1.94679024, 5.59176994, 5.59841845, 8.63102439,\n",
       "       8.84294129])"
      ]
     },
     "execution_count": 5,
     "metadata": {},
     "output_type": "execute_result"
    }
   ],
   "source": [
    "Eigen_E"
   ]
  },
  {
   "cell_type": "code",
   "execution_count": 6,
   "metadata": {},
   "outputs": [],
   "source": [
    "from matplotlib import style\n",
    "style.use('seaborn')"
   ]
  },
  {
   "cell_type": "code",
   "execution_count": 7,
   "metadata": {},
   "outputs": [
    {
     "name": "stdout",
     "output_type": "stream",
     "text": [
      "Plottings for [1.94672996 1.94679024 5.59176994 5.59841845 8.63102439 8.84294129]\n"
     ]
    },
    {
     "data": {
      "text/plain": [
       "Text(0, 0.5, '$\\\\Psi$ / E(in J)')"
      ]
     },
     "execution_count": 7,
     "metadata": {},
     "output_type": "execute_result"
    }
   ],
   "source": [
    "fig=plt.figure(figsize=(10,8))\n",
    "ax=plt.axes(ylim=(0,10.5))\n",
    "X=np.linspace(Xmin,Xmax,10**4)\n",
    "EF.Plot_Eq(X,Eigen_E,ax)\n",
    "ax.plot(X,Poten_D(X),color='black')\n",
    "plt.figtext(.5,.9,'Solutions for a Symmetric Quantum Double Potential well', fontsize=20, ha='center')\n",
    "plt.xticks(fontsize=14)\n",
    "plt.yticks(fontsize=14)\n",
    "plt.xlabel(\"X(in meter)\",fontsize=17)\n",
    "plt.ylabel(r\"$\\Psi$ / E(in J)\",fontsize=18)"
   ]
  },
  {
   "cell_type": "code",
   "execution_count": 8,
   "metadata": {},
   "outputs": [
    {
     "data": {
      "text/plain": [
       "Text(1.9, 9.2, '$\\\\psi_5$')"
      ]
     },
     "execution_count": 8,
     "metadata": {},
     "output_type": "execute_result"
    }
   ],
   "source": [
    "ax.text(2.1,2.4,r'$\\psi_0$',fontsize=16,color='c')\n",
    "ax.text(2.1,1.3,r'$\\psi_1$',fontsize=16,color='r')\n",
    "ax.text(2.5,6,r'$\\psi_2$',fontsize=16,color='g')\n",
    "ax.text(1.6,6,r'$\\psi_3$',fontsize=16,color='b')\n",
    "ax.text(1.9,8.2,r'$\\psi_4$',fontsize=16,color='deepskyblue')\n",
    "ax.text(1.9,9.2,r'$\\psi_5$',fontsize=16,color='violet')"
   ]
  },
  {
   "cell_type": "code",
   "execution_count": 9,
   "metadata": {},
   "outputs": [
    {
     "data": {
      "text/plain": [
       "Text(-1.9, 0.6, 'Well potential:$0.4x^4-4x^2+10$')"
      ]
     },
     "execution_count": 9,
     "metadata": {},
     "output_type": "execute_result"
    }
   ],
   "source": [
    "ax.text(-1.9,.6,r'Well potential:$0.4x^4-4x^2+10$',fontsize=13,color='black')"
   ]
  },
  {
   "cell_type": "code",
   "execution_count": 10,
   "metadata": {},
   "outputs": [],
   "source": [
    "plt.savefig(\"Neat_plot_QDW(psi-E).png\",dpi=960)"
   ]
  },
  {
   "cell_type": "code",
   "execution_count": 11,
   "metadata": {},
   "outputs": [],
   "source": [
    "BP=1\n",
    "def Explotion_fac(X,E_range):\n",
    "    Sol=EF.run_mult(X,E_range)\n",
    "    E_range=np.copy(E_range)\n",
    "    V_x=Poten_D(X)#V of x{V(x)}\n",
    "    min_V=min(V_x)\n",
    "    active_range=np.where(V_x<=max(E_range))\n",
    "    ind_lw=active_range[0][0]\n",
    "    ind_up=active_range[0][-1]\n",
    "    Explo_Farray=[]\n",
    "    for s in Sol:\n",
    "        y=s[1]\n",
    "        Expec_max=max(y[ind_lw:ind_up])#maximum in the expected region\n",
    "        Expec_min=abs(min(y[ind_lw:ind_up]))\n",
    "        if Expec_max<Expec_min:\n",
    "            Expec_max=Expec_min\n",
    "        Explo_Farray.append(abs(y[-1]/Expec_max))\n",
    "    return Explo_Farray"
   ]
  },
  {
   "cell_type": "code",
   "execution_count": 12,
   "metadata": {},
   "outputs": [],
   "source": [
    "E_1=np.linspace(0,1.94,100)\n",
    "E_2=np.linspace(1.94,1.95,500)\n",
    "E_3=np.linspace(1.95,5.5,210)\n",
    "E_4=np.linspace(5.5,5.75,300)\n",
    "E_5=np.linspace(5.75,8.6,200)\n",
    "E_6=np.linspace(8.6,9,250)\n",
    "E_array= np.concatenate((E_1,E_2,E_3,E_4,E_5,E_6))"
   ]
  },
  {
   "cell_type": "code",
   "execution_count": 15,
   "metadata": {},
   "outputs": [
    {
     "data": {
      "text/plain": [
       "1560"
      ]
     },
     "execution_count": 15,
     "metadata": {},
     "output_type": "execute_result"
    }
   ],
   "source": [
    "len(E_array)"
   ]
  },
  {
   "cell_type": "code",
   "execution_count": 17,
   "metadata": {},
   "outputs": [],
   "source": [
    "Ex_A=Explotion_fac(X,E_array)"
   ]
  },
  {
   "cell_type": "code",
   "execution_count": 18,
   "metadata": {},
   "outputs": [
    {
     "data": {
      "text/plain": [
       "<matplotlib.legend.Legend at 0x7f6dc07e5130>"
      ]
     },
     "execution_count": 18,
     "metadata": {},
     "output_type": "execute_result"
    }
   ],
   "source": [
    "fig=plt.figure(figsize=(10,8))\n",
    "ax=plt.axes()\n",
    "plt.figtext(.5,.9,'Explosion-Factor vs Energy\\n In a Symmetric Quantum Double Potential Well', fontsize=22, ha='center')\n",
    "ynt=np.linspace(0,9,10)\n",
    "ynt[2]=Eigen_E[0]\n",
    "ynt[5]=round(Eigen_E[2],2)\n",
    "ynt[6]=round(Eigen_E[4],2)\n",
    "plt.xticks(ynt[:-1],fontsize=12)\n",
    "plt.yticks(fontsize=14)\n",
    "plt.xlabel(\"E(in J)\",fontsize=14)\n",
    "plt.ylabel(\"Explosion-factor\",fontsize=14)\n",
    "plt.yscale('log')\n",
    "ax.plot(E_array,Ex_A,label='Explosion-factor')\n",
    "plt.legend()"
   ]
  },
  {
   "cell_type": "code",
   "execution_count": 19,
   "metadata": {},
   "outputs": [
    {
     "data": {
      "text/plain": [
       "Text(8.9, 200, '$E_5$')"
      ]
     },
     "execution_count": 19,
     "metadata": {},
     "output_type": "execute_result"
    }
   ],
   "source": [
    "ax.text(1.94667,20,r\"$E_0 & E_1$\",color='b',fontsize=15)\n",
    "ax.text(5.37,200,r\"$E_2$\",color='b',fontsize=15)\n",
    "ax.text(5.65,400,r\"$E_3$\",color='b',fontsize=15)\n",
    "ax.text(8.3,400,r\"$E_4$\",color='b',fontsize=15)\n",
    "ax.text(8.9,200,r\"$E_5$\",color='b',fontsize=15)"
   ]
  },
  {
   "cell_type": "code",
   "execution_count": 20,
   "metadata": {},
   "outputs": [],
   "source": [
    "plt.savefig(\"Explosion_vs_E_QDW.png\",dpi=650)"
   ]
  },
  {
   "cell_type": "code",
   "execution_count": 126,
   "metadata": {},
   "outputs": [
    {
     "data": {
      "text/plain": [
       "Text(8.9, 200, '$E_5$')"
      ]
     },
     "execution_count": 126,
     "metadata": {},
     "output_type": "execute_result"
    }
   ],
   "source": []
  },
  {
   "cell_type": "code",
   "execution_count": 24,
   "metadata": {},
   "outputs": [
    {
     "data": {
      "text/plain": [
       "([<matplotlib.axis.XTick at 0x7f6dc0f7db50>,\n",
       "  <matplotlib.axis.XTick at 0x7f6dc0f7db80>,\n",
       "  <matplotlib.axis.XTick at 0x7f6dc0f7b5b0>,\n",
       "  <matplotlib.axis.XTick at 0x7f6dc0d45490>,\n",
       "  <matplotlib.axis.XTick at 0x7f6dc0d459a0>,\n",
       "  <matplotlib.axis.XTick at 0x7f6dc0d45eb0>,\n",
       "  <matplotlib.axis.XTick at 0x7f6dc0d48400>,\n",
       "  <matplotlib.axis.XTick at 0x7f6dc0d48910>],\n",
       " [Text(0, 0, ''),\n",
       "  Text(0, 0, ''),\n",
       "  Text(0, 0, ''),\n",
       "  Text(0, 0, ''),\n",
       "  Text(0, 0, ''),\n",
       "  Text(0, 0, ''),\n",
       "  Text(0, 0, ''),\n",
       "  Text(0, 0, '')])"
      ]
     },
     "execution_count": 24,
     "metadata": {},
     "output_type": "execute_result"
    }
   ],
   "source": [
    "fig=plt.figure(figsize=(10,8))\n",
    "ax=plt.axes()\n",
    "plt.figtext(.5,.9,'Explosion-Factor vs Energy \\nSplitting of Ground State', fontsize=22, ha='center')\n",
    "ynt=np.linspace(0,9,10)\n",
    "ynt[2]=Eigen_E[0]\n",
    "ynt[5]=round(Eigen_E[2],2)\n",
    "ynt[6]=round(Eigen_E[4],2)\n",
    "plt.xticks(ynt[:-1],fontsize=12)\n",
    "plt.yticks(fontsize=14)\n",
    "plt.xlabel(\"E(in J)\",fontsize=14)\n",
    "plt.ylabel(\"Explosion-factor\",fontsize=14)\n",
    "plt.yscale('log')\n",
    "ax.plot(E_array,Ex_A,label='Explosion-factor')\n",
    "plt.legend()\n",
    "plt.xlim(1.9465,1.9470)\n",
    "plt.xticks(np.linspace(1.9465,1.9470,8),fontsize=12)"
   ]
  },
  {
   "cell_type": "code",
   "execution_count": 25,
   "metadata": {},
   "outputs": [
    {
     "data": {
      "text/plain": [
       "Text(1.9468, 20, '$E_1$')"
      ]
     },
     "execution_count": 25,
     "metadata": {},
     "output_type": "execute_result"
    }
   ],
   "source": [
    "ax.text(1.946715,20,r\"$E_0$\",color='b',fontsize=15)\n",
    "ax.text(1.9468,20,r\"$E_1$\",color='b',fontsize=15)"
   ]
  },
  {
   "cell_type": "code",
   "execution_count": 26,
   "metadata": {},
   "outputs": [],
   "source": [
    "plt.savefig(\"Explo_fac_splitting_1.png\",dpi=650)"
   ]
  },
  {
   "cell_type": "code",
   "execution_count": 36,
   "metadata": {},
   "outputs": [],
   "source": []
  },
  {
   "cell_type": "code",
   "execution_count": 27,
   "metadata": {},
   "outputs": [
    {
     "data": {
      "text/plain": [
       "Text(5.5989, 350, '$E_3$')"
      ]
     },
     "execution_count": 27,
     "metadata": {},
     "output_type": "execute_result"
    }
   ],
   "source": [
    "fig=plt.figure(figsize=(10,8))\n",
    "ax=plt.axes()\n",
    "plt.figtext(.5,.9,'Explosion-Factor vs Energy for QHO\\n Splitting of First Excited State', fontsize=22, ha='center')\n",
    "ynt=np.linspace(0,9,10)\n",
    "ynt[2]=Eigen_E[0]\n",
    "ynt[5]=round(Eigen_E[2],2)\n",
    "ynt[6]=round(Eigen_E[4],2)\n",
    "plt.xticks(ynt[:-1],fontsize=12)\n",
    "plt.yticks(fontsize=14)\n",
    "plt.xlabel(\"E(in J)\",fontsize=14)\n",
    "plt.ylabel(\"Explosion-factor\",fontsize=14)\n",
    "plt.yscale('log')\n",
    "ax.plot(E_array,Ex_A,label='Explosion-factor')\n",
    "plt.legend()\n",
    "plt.xlim(5.580,5.605)\n",
    "plt.xticks(np.linspace(5.580,5.61,9),fontsize=12)\n",
    "ax.text(5.5915,250,r\"$E_2$\",color='b',fontsize=15)\n",
    "ax.text(5.5989,350,r\"$E_3$\",color='b',fontsize=15)"
   ]
  },
  {
   "cell_type": "code",
   "execution_count": 28,
   "metadata": {},
   "outputs": [],
   "source": [
    "plt.savefig(\"Explo_fac_splitting_2.png\",dpi=650)"
   ]
  },
  {
   "cell_type": "code",
   "execution_count": 52,
   "metadata": {},
   "outputs": [],
   "source": [
    "1.78,4.64,6.9,8.6"
   ]
  },
  {
   "cell_type": "code",
   "execution_count": 58,
   "metadata": {},
   "outputs": [
    {
     "data": {
      "text/plain": [
       "<matplotlib.legend.Legend at 0x7f6d9cb50df0>"
      ]
     },
     "execution_count": 58,
     "metadata": {},
     "output_type": "execute_result"
    }
   ],
   "source": [
    "fig=plt.figure(figsize=(10,8))\n",
    "ax=plt.axes(ylim=(-.1,10))\n",
    "plt.figtext(.5,.9,'Quantum Double potential Well', fontsize=22, ha='center')\n",
    "plt.xticks(fontsize=14)\n",
    "plt.yticks(fontsize=14)\n",
    "plt.xlabel(\"X(in m)\",fontsize=14)\n",
    "plt.ylabel(\"Potential,V(in J)\",fontsize=14)\n",
    "plt.yscale('linear')\n",
    "ax.plot(X,Poten_D(X),color='lime',label=r'$V_{(x)}=.4*x^4-4x^2+10$')\n",
    "plt.legend(loc=8,prop={'size':14})"
   ]
  },
  {
   "cell_type": "code",
   "execution_count": 59,
   "metadata": {},
   "outputs": [],
   "source": [
    "plt.savefig(\"Quantum_Double_Potential_Well.png\",dpi=650)"
   ]
  },
  {
   "cell_type": "code",
   "execution_count": null,
   "metadata": {},
   "outputs": [],
   "source": []
  }
 ],
 "metadata": {
  "kernelspec": {
   "display_name": "Python 3",
   "language": "python",
   "name": "python3"
  },
  "language_info": {
   "codemirror_mode": {
    "name": "ipython",
    "version": 3
   },
   "file_extension": ".py",
   "mimetype": "text/x-python",
   "name": "python",
   "nbconvert_exporter": "python",
   "pygments_lexer": "ipython3",
   "version": "3.9.1"
  }
 },
 "nbformat": 4,
 "nbformat_minor": 4
}
